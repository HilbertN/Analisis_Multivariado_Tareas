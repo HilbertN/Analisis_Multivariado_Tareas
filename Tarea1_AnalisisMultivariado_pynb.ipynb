{
  "nbformat": 4,
  "nbformat_minor": 0,
  "metadata": {
    "colab": {
      "provenance": [],
      "authorship_tag": "ABX9TyNj0wc/AG0QzLpQ9CD7ep6n",
      "include_colab_link": true
    },
    "kernelspec": {
      "name": "python3",
      "display_name": "Python 3"
    },
    "language_info": {
      "name": "python"
    }
  },
  "cells": [
    {
      "cell_type": "markdown",
      "metadata": {
        "id": "view-in-github",
        "colab_type": "text"
      },
      "source": [
        "<a href=\"https://colab.research.google.com/github/HilbertN/Analisis_Multivariado_Tareas/blob/main/Tarea1_AnalisisMultivariado_pynb.ipynb\" target=\"_parent\"><img src=\"https://colab.research.google.com/assets/colab-badge.svg\" alt=\"Open In Colab\"/></a>"
      ]
    },
    {
      "cell_type": "code",
      "execution_count": 2,
      "metadata": {
        "id": "pLEX7BfppDhm"
      },
      "outputs": [],
      "source": [
        "import pandas as pd\n",
        "import numpy as np\n",
        "import matplotlib.pyplot as plt\n",
        "import numpy.ma as ma"
      ]
    },
    {
      "cell_type": "markdown",
      "source": [
        "# Ejercicio 6"
      ],
      "metadata": {
        "id": "rOlBcR4OusDb"
      }
    },
    {
      "cell_type": "code",
      "source": [
        "X = np.array([[2, 4, 3],\n",
        "              [2, 3, 4],\n",
        "              [3, 5, 4],\n",
        "              [1, 2, 6],\n",
        "              [2, 6, 8]])"
      ],
      "metadata": {
        "id": "SyVtlk3TpKHd"
      },
      "execution_count": 3,
      "outputs": []
    },
    {
      "cell_type": "code",
      "source": [
        "#Vector de medias\n",
        "mu = np.mean(X, axis=0)\n",
        "mu"
      ],
      "metadata": {
        "id": "5DMeLeDypgHL",
        "outputId": "39f7d5c7-4abd-4740-cb15-54c569f06315",
        "colab": {
          "base_uri": "https://localhost:8080/"
        }
      },
      "execution_count": 7,
      "outputs": [
        {
          "output_type": "execute_result",
          "data": {
            "text/plain": [
              "array([2., 4., 5.])"
            ]
          },
          "metadata": {},
          "execution_count": 7
        }
      ]
    },
    {
      "cell_type": "code",
      "source": [
        "#Matriz de covarianzas. Nota: No debe haber datos faltantes\n",
        "X_c=X-mu\n",
        "cov_matrix = np.cov(X_c, rowvar=False)\n",
        "cov_matrix"
      ],
      "metadata": {
        "id": "o8ynSmDPpo2p",
        "colab": {
          "base_uri": "https://localhost:8080/"
        },
        "outputId": "519aff47-981b-4344-8a11-9e6214a3be40"
      },
      "execution_count": 10,
      "outputs": [
        {
          "output_type": "execute_result",
          "data": {
            "text/plain": [
              "array([[ 0.5 ,  0.75, -0.5 ],\n",
              "       [ 0.75,  2.5 ,  1.  ],\n",
              "       [-0.5 ,  1.  ,  4.  ]])"
            ]
          },
          "metadata": {},
          "execution_count": 10
        }
      ]
    },
    {
      "cell_type": "code",
      "source": [
        "# Calcular las desviaciones estándar de las variables\n",
        "std_dev = np.sqrt(np.diag(cov_matrix))#Vector con las desviaciones\n"
      ],
      "metadata": {
        "id": "6oqKdE0Szfha"
      },
      "execution_count": 13,
      "outputs": []
    },
    {
      "cell_type": "code",
      "source": [
        "correlation_matrix_np = cov_matrix / np.outer(std_dev, std_dev)"
      ],
      "metadata": {
        "id": "pSIzjtZ1zbdQ"
      },
      "execution_count": 14,
      "outputs": []
    },
    {
      "cell_type": "code",
      "source": [
        "correlation_matrix_np"
      ],
      "metadata": {
        "colab": {
          "base_uri": "https://localhost:8080/"
        },
        "id": "ylPUhDRyziSX",
        "outputId": "112c0c8b-b965-4911-808a-5a77d9a5a73e"
      },
      "execution_count": 15,
      "outputs": [
        {
          "output_type": "execute_result",
          "data": {
            "text/plain": [
              "array([[ 1.        ,  0.67082039, -0.35355339],\n",
              "       [ 0.67082039,  1.        ,  0.31622777],\n",
              "       [-0.35355339,  0.31622777,  1.        ]])"
            ]
          },
          "metadata": {},
          "execution_count": 15
        }
      ]
    },
    {
      "cell_type": "code",
      "source": [
        "mean_values = np.mean(X, axis=0)\n",
        "std_dev_values = np.std(X, axis=0,ddof=1)#ddof=1 es para calcular los parámetros muestrales\n",
        "X_standardized = (X - mean_values) / std_dev_values"
      ],
      "metadata": {
        "id": "aGL30F0Jdo1w"
      },
      "execution_count": 17,
      "outputs": []
    },
    {
      "cell_type": "code",
      "source": [
        "X_standardized"
      ],
      "metadata": {
        "colab": {
          "base_uri": "https://localhost:8080/"
        },
        "id": "JN4v_O1pdzRA",
        "outputId": "86299bad-7608-4406-b72f-c1e56b3888a7"
      },
      "execution_count": null,
      "outputs": [
        {
          "output_type": "execute_result",
          "data": {
            "text/plain": [
              "array([[ 0.        ,  0.        , -1.        ],\n",
              "       [ 0.        , -0.63245553, -0.5       ],\n",
              "       [ 1.41421356,  0.63245553, -0.5       ],\n",
              "       [-1.41421356, -1.26491106,  0.5       ],\n",
              "       [ 0.        ,  1.26491106,  1.5       ]])"
            ]
          },
          "metadata": {},
          "execution_count": 13
        }
      ]
    },
    {
      "cell_type": "code",
      "source": [
        "plt.scatter(X[:,1],X[:,2] )\n",
        "plt.xlabel('Datos de x2')\n",
        "plt.ylabel('Datos de x3')\n",
        "plt.title('Gráfico de Dispersión')\n",
        "plt.savefig('Ej6_e.png')"
      ],
      "metadata": {
        "colab": {
          "base_uri": "https://localhost:8080/",
          "height": 472
        },
        "id": "tRQ_AOL-tvZA",
        "outputId": "c9138c3d-1ff6-4af5-9a63-6b9ffbc90ff8"
      },
      "execution_count": null,
      "outputs": [
        {
          "output_type": "display_data",
          "data": {
            "text/plain": [
              "<Figure size 640x480 with 1 Axes>"
            ],
            "image/png": "[encoded data removed]"
          },
          "metadata": {}
        }
      ]
    },
    {
      "cell_type": "code",
      "source": [
        "plt.scatter(X_standardized[:,1],X_standardized[:,2] )\n",
        "plt.xlabel('Datos de x2')\n",
        "plt.ylabel('Datos de x3')\n",
        "plt.title('Gráfico de Dispersión')\n",
        "plt.savefig('Ej6_f.png')"
      ],
      "metadata": {
        "colab": {
          "base_uri": "https://localhost:8080/",
          "height": 472
        },
        "id": "kbZcQnKhurPb",
        "outputId": "6e4f862e-ce28-47b4-b632-380b8c905c2d"
      },
      "execution_count": null,
      "outputs": [
        {
          "output_type": "display_data",
          "data": {
            "text/plain": [
              "<Figure size 640x480 with 1 Axes>"
            ],
            "image/png": "[encoded data removed]"
          },
          "metadata": {}
        }
      ]
    },
    {
      "cell_type": "markdown",
      "source": [
        "# Ejercicio 2"
      ],
      "metadata": {
        "id": "WneTWJjCydSd"
      }
    },
    {
      "cell_type": "code",
      "source": [
        "X = np.array([[36.2, 19.2,0.55],[17.5, 33.0,-0.64],[28.5, 22.0,0.73],[27.7, 14.2,1.18],[17.3, 27.1,0.17],\n",
        " [36.3, 12.1,0.08],[19.8, 21.6,-0.18],[16.4, 23.3,-0.45]])"
      ],
      "metadata": {
        "id": "C4LK3UA2yh4c"
      },
      "execution_count": null,
      "outputs": []
    },
    {
      "cell_type": "code",
      "source": [
        "mu = np.mean(X, axis=0)\n",
        "mu"
      ],
      "metadata": {
        "colab": {
          "base_uri": "https://localhost:8080/"
        },
        "id": "Zz8Ra_WpLebM",
        "outputId": "f21815e9-0e70-48ee-8ae5-b8a15cb76823"
      },
      "execution_count": null,
      "outputs": [
        {
          "output_type": "execute_result",
          "data": {
            "text/plain": [
              "array([24.9625, 21.5625,  0.18  ])"
            ]
          },
          "metadata": {},
          "execution_count": 17
        }
      ]
    },
    {
      "cell_type": "code",
      "source": [
        "X_c = X - mu\n",
        "cov_matrix = np.cov(X_c, rowvar=False)\n",
        "cov_matrix"
      ],
      "metadata": {
        "colab": {
          "base_uri": "https://localhost:8080/"
        },
        "id": "bSJ29Y99Lix0",
        "outputId": "a5765fbf-5824-4ead-ea22-cc88545a4b9f"
      },
      "execution_count": null,
      "outputs": [
        {
          "output_type": "execute_result",
          "data": {
            "text/plain": [
              "array([[ 69.88553571, -42.18446429,   3.02228571],\n",
              "       [-42.18446429,  44.85982143,  -2.51314286],\n",
              "       [  3.02228571,  -2.51314286,   0.37834286]])"
            ]
          },
          "metadata": {},
          "execution_count": 18
        }
      ]
    },
    {
      "cell_type": "code",
      "source": [
        "std_dev = np.sqrt(np.diag(cov_matrix))\n",
        "correlation_matrix_np = cov_matrix / np.outer(std_dev, std_dev)\n",
        "correlation_matrix_np"
      ],
      "metadata": {
        "colab": {
          "base_uri": "https://localhost:8080/"
        },
        "id": "eJt2R8I6LyU4",
        "outputId": "2e473249-9541-4a60-de5a-8dd5a2accdbf"
      },
      "execution_count": null,
      "outputs": [
        {
          "output_type": "execute_result",
          "data": {
            "text/plain": [
              "array([[ 1.        , -0.75340781,  0.58775874],\n",
              "       [-0.75340781,  1.        , -0.61002219],\n",
              "       [ 0.58775874, -0.61002219,  1.        ]])"
            ]
          },
          "metadata": {},
          "execution_count": 19
        }
      ]
    },
    {
      "cell_type": "code",
      "source": [
        "mean_values = np.mean(X, axis=0)\n",
        "std_dev_values = np.std(X, axis=0,ddof=1)\n",
        "X_standardized = (X - mean_values) / std_dev_values\n",
        "X_standardized"
      ],
      "metadata": {
        "colab": {
          "base_uri": "https://localhost:8080/"
        },
        "id": "NmlUHRkwL9hf",
        "outputId": "be83118c-9bfc-4b97-dd8d-22b96a553464"
      },
      "execution_count": null,
      "outputs": [
        {
          "output_type": "execute_result",
          "data": {
            "text/plain": [
              "array([[ 1.34423765, -0.35273053,  0.6015323 ],\n",
              "       [-0.8926695 ,  1.70766366, -1.33312564],\n",
              "       [ 0.42315824,  0.06532047,  0.89416964],\n",
              "       [ 0.32746167, -1.09925016,  1.62576298],\n",
              "       [-0.91659364,  0.82677049, -0.01625763],\n",
              "       [ 1.35619972, -1.41278841, -0.1625763 ],\n",
              "       [-0.61754188,  0.0055989 , -0.58527467],\n",
              "       [-1.02425227,  0.25941557, -1.02423068]])"
            ]
          },
          "metadata": {},
          "execution_count": 20
        }
      ]
    },
    {
      "cell_type": "code",
      "source": [
        "plt.scatter(X[:,0],X[:,1] )\n",
        "plt.xlabel('Datos de SO')\n",
        "plt.ylabel('Datos de SD')\n",
        "plt.title('Gráfico de Dispersión')\n",
        "plt.savefig('Ej7_d.png')"
      ],
      "metadata": {
        "colab": {
          "base_uri": "https://localhost:8080/",
          "height": 472
        },
        "id": "j2gR56OiOgbO",
        "outputId": "f965cdcf-7fcb-412f-cad9-d16579708496"
      },
      "execution_count": null,
      "outputs": [
        {
          "output_type": "display_data",
          "data": {
            "text/plain": [
              "<Figure size 640x480 with 1 Axes>"
            ],
            "image/png": "[encoded data removed]"
          },
          "metadata": {}
        }
      ]
    },
    {
      "cell_type": "markdown",
      "source": [
        "# Ejercicio 8"
      ],
      "metadata": {
        "id": "_uTgiC60RPzE"
      }
    },
    {
      "cell_type": "code",
      "source": [
        "X=np.array([[341,69,139],\n",
        " [135,79,169],\n",
        "  [197,94,164],\n",
        "   [110,59,135],\n",
        "    [94,58,70],\n",
        "     [154,54,109],\n",
        "      [127,59,79],\n",
        "       [84,44,64],\n",
        "        [118,59,150],\n",
        "         [162,59,74],\n",
        "          [254,59,125],\n",
        "           [207,60,99],\n",
        "            [148,49,86],\n",
        "             [188,65,85],\n",
        "              [92,49,72],\n",
        "               [141,59,91],\n",
        "                [398,39,149],\n",
        "                 [126,64,95],\n",
        "                  [140,59,85],\n",
        "                   [103,59,105],\n",
        "                    [212,49,95],\n",
        "                     [121,62,72],\n",
        "                      [109,50,75],\n",
        "                       [250,45,79],\n",
        "                        [95,59,65]])"
      ],
      "metadata": {
        "id": "oiOTAgfVUb_3",
        "outputId": "cf325e67-179b-4607-9575-3e5d908163da",
        "colab": {
          "base_uri": "https://localhost:8080/",
          "height": 225
        }
      },
      "execution_count": null,
      "outputs": [
        {
          "output_type": "error",
          "ename": "NameError",
          "evalue": "name 'np' is not defined",
          "traceback": [
            "\u001b[0;31m---------------------------------------------------------------------------\u001b[0m",
            "\u001b[0;31mNameError\u001b[0m                                 Traceback (most recent call last)",
            "\u001b[0;32m<ipython-input-1-285167e227ef>\u001b[0m in \u001b[0;36m<cell line: 1>\u001b[0;34m()\u001b[0m\n\u001b[0;32m----> 1\u001b[0;31m X=np.array([[341,69,139],\n\u001b[0m\u001b[1;32m      2\u001b[0m  \u001b[0;34m[\u001b[0m\u001b[0;36m135\u001b[0m\u001b[0;34m,\u001b[0m\u001b[0;36m79\u001b[0m\u001b[0;34m,\u001b[0m\u001b[0;36m169\u001b[0m\u001b[0;34m]\u001b[0m\u001b[0;34m,\u001b[0m\u001b[0;34m\u001b[0m\u001b[0;34m\u001b[0m\u001b[0m\n\u001b[1;32m      3\u001b[0m   \u001b[0;34m[\u001b[0m\u001b[0;36m197\u001b[0m\u001b[0;34m,\u001b[0m\u001b[0;36m94\u001b[0m\u001b[0;34m,\u001b[0m\u001b[0;36m164\u001b[0m\u001b[0;34m]\u001b[0m\u001b[0;34m,\u001b[0m\u001b[0;34m\u001b[0m\u001b[0;34m\u001b[0m\u001b[0m\n\u001b[1;32m      4\u001b[0m    \u001b[0;34m[\u001b[0m\u001b[0;36m110\u001b[0m\u001b[0;34m,\u001b[0m\u001b[0;36m59\u001b[0m\u001b[0;34m,\u001b[0m\u001b[0;36m135\u001b[0m\u001b[0;34m]\u001b[0m\u001b[0;34m,\u001b[0m\u001b[0;34m\u001b[0m\u001b[0;34m\u001b[0m\u001b[0m\n\u001b[1;32m      5\u001b[0m     \u001b[0;34m[\u001b[0m\u001b[0;36m94\u001b[0m\u001b[0;34m,\u001b[0m\u001b[0;36m58\u001b[0m\u001b[0;34m,\u001b[0m\u001b[0;36m70\u001b[0m\u001b[0;34m]\u001b[0m\u001b[0;34m,\u001b[0m\u001b[0;34m\u001b[0m\u001b[0;34m\u001b[0m\u001b[0m\n",
            "\u001b[0;31mNameError\u001b[0m: name 'np' is not defined"
          ]
        }
      ]
    },
    {
      "cell_type": "code",
      "source": [
        "plt.scatter(X[:,1],X[:,0] )\n",
        "plt.xlabel('Datos de MIN')\n",
        "plt.ylabel('Datos de ROOMS')\n",
        "plt.title('Gráfico de Dispersión')\n",
        "plt.savefig('Ej8_c.png')"
      ],
      "metadata": {
        "colab": {
          "base_uri": "https://localhost:8080/",
          "height": 472
        },
        "id": "uokYihuNW3SV",
        "outputId": "0680f39e-af81-4b99-afc7-36cc44f10b44"
      },
      "execution_count": null,
      "outputs": [
        {
          "output_type": "display_data",
          "data": {
            "text/plain": [
              "<Figure size 640x480 with 1 Axes>"
            ],
            "image/png": "[encoded data removed]"
          },
          "metadata": {}
        }
      ]
    },
    {
      "cell_type": "code",
      "source": [
        "plt.scatter(X[:,2],X[:,0] )\n",
        "plt.xlabel('Datos de MAX')\n",
        "plt.ylabel('Datos de ROOMS')\n",
        "plt.title('Gráfico de Dispersión')\n",
        "plt.savefig('Ej8_d.png')"
      ],
      "metadata": {
        "colab": {
          "base_uri": "https://localhost:8080/",
          "height": 472
        },
        "id": "-G6NHQTjYjJI",
        "outputId": "c45f88ac-fda9-4d68-d300-2bc464815680"
      },
      "execution_count": null,
      "outputs": [
        {
          "output_type": "display_data",
          "data": {
            "text/plain": [
              "<Figure size 640x480 with 1 Axes>"
            ],
            "image/png": "[encoded data removed]"
          },
          "metadata": {}
        }
      ]
    },
    {
      "cell_type": "code",
      "source": [
        "plt.scatter(X[:,1],X[:,2] )\n",
        "plt.xlabel('Datos de MIN')\n",
        "plt.ylabel('Datos de MAX')\n",
        "plt.title('Gráfico de Dispersión')\n",
        "plt.savefig('Ej8_f.png')"
      ],
      "metadata": {
        "colab": {
          "base_uri": "https://localhost:8080/",
          "height": 472
        },
        "id": "s32JOF9fa-7N",
        "outputId": "5a4cf866-1e58-47c8-f9e4-95a6d7796579"
      },
      "execution_count": null,
      "outputs": [
        {
          "output_type": "display_data",
          "data": {
            "text/plain": [
              "<Figure size 640x480 with 1 Axes>"
            ],
            "image/png": "[encoded data removed]"
          },
          "metadata": {}
        }
      ]
    },
    {
      "cell_type": "code",
      "source": [
        "mu = np.mean(X, axis=0)\n",
        "mu"
      ],
      "metadata": {
        "colab": {
          "base_uri": "https://localhost:8080/"
        },
        "id": "4tchuAtUdlfg",
        "outputId": "dd6f34e5-d03d-45e8-dc6b-83fea963c711"
      },
      "execution_count": null,
      "outputs": [
        {
          "output_type": "execute_result",
          "data": {
            "text/plain": [
              "array([164.24,  58.44, 101.24])"
            ]
          },
          "metadata": {},
          "execution_count": 26
        }
      ]
    },
    {
      "cell_type": "code",
      "source": [
        "X_c = X - mu\n",
        "cov_matrix = np.cov(X_c, rowvar=False)\n",
        "cov_matrix"
      ],
      "metadata": {
        "colab": {
          "base_uri": "https://localhost:8080/"
        },
        "id": "PHXcd0GAdpbg",
        "outputId": "55386154-ac13-41f4-99e6-382bcdceed97"
      },
      "execution_count": null,
      "outputs": [
        {
          "output_type": "execute_result",
          "data": {
            "text/plain": [
              "array([[6141.19      ,  -60.52666667, 1145.35666667],\n",
              "       [ -60.52666667,  125.67333333,  181.72333333],\n",
              "       [1145.35666667,  181.72333333, 1047.77333333]])"
            ]
          },
          "metadata": {},
          "execution_count": 27
        }
      ]
    },
    {
      "cell_type": "code",
      "source": [
        "std_dev = np.sqrt(np.diag(cov_matrix))\n",
        "correlation_matrix_np = cov_matrix / np.outer(std_dev, std_dev)\n",
        "correlation_matrix_np"
      ],
      "metadata": {
        "colab": {
          "base_uri": "https://localhost:8080/"
        },
        "id": "opS6IabEduaS",
        "outputId": "95445bcc-c8ba-4638-d3ee-e834f212bd52"
      },
      "execution_count": null,
      "outputs": [
        {
          "output_type": "execute_result",
          "data": {
            "text/plain": [
              "array([[ 1.        , -0.06889678,  0.45152397],\n",
              "       [-0.06889678,  1.        ,  0.50078978],\n",
              "       [ 0.45152397,  0.50078978,  1.        ]])"
            ]
          },
          "metadata": {},
          "execution_count": 28
        }
      ]
    },
    {
      "cell_type": "code",
      "source": [
        "mean_values = np.mean(X, axis=0)\n",
        "std_dev_values = np.std(X, axis=0,ddof=1)\n",
        "X_standardized = (X - mean_values) / std_dev_values\n",
        "X_standardized"
      ],
      "metadata": {
        "colab": {
          "base_uri": "https://localhost:8080/"
        },
        "id": "jyN8gw5Sd1bp",
        "outputId": "b5deef32-3db1-4ace-86fd-9ba6acbf888b"
      },
      "execution_count": null,
      "outputs": [
        {
          "output_type": "execute_result",
          "data": {
            "text/plain": [
              "array([[ 2.25557736,  0.94198145,  1.16653645],\n",
              "       [-0.37312221,  1.83400934,  2.09333978],\n",
              "       [ 0.41803979,  3.17205117,  1.93887256],\n",
              "       [-0.69213915,  0.04995356,  1.04296268],\n",
              "       [-0.89630999, -0.03924923, -0.9651112 ],\n",
              "       [-0.13066934, -0.39606038,  0.23973313],\n",
              "       [-0.47520763,  0.04995356, -0.6870702 ],\n",
              "       [-1.02391676, -1.28808827, -1.15047186],\n",
              "       [-0.59005373,  0.04995356,  1.50636434],\n",
              "       [-0.02858392,  0.04995356, -0.84153742],\n",
              "       [ 1.14539841,  0.04995356,  0.73402824],\n",
              "       [ 0.54564657,  0.13915635, -0.06920132],\n",
              "       [-0.2072334 , -0.84207433, -0.47081609],\n",
              "       [ 0.3031937 ,  0.5851703 , -0.50170953],\n",
              "       [-0.92183134, -0.84207433, -0.90332431],\n",
              "       [-0.29655815,  0.04995356, -0.31634887],\n",
              "       [ 2.98293597, -1.73410222,  1.4754709 ],\n",
              "       [-0.48796831,  0.49596751, -0.19277509],\n",
              "       [-0.30931882,  0.04995356, -0.50170953],\n",
              "       [-0.78146389,  0.04995356,  0.11615935],\n",
              "       [ 0.60944996, -0.84207433, -0.19277509],\n",
              "       [-0.5517717 ,  0.31756193, -0.90332431],\n",
              "       [-0.70489983, -0.75287154, -0.81064398],\n",
              "       [ 1.0943557 , -1.19888548, -0.6870702 ],\n",
              "       [-0.88354931,  0.04995356, -1.11957842]])"
            ]
          },
          "metadata": {},
          "execution_count": 29
        }
      ]
    },
    {
      "cell_type": "code",
      "source": [
        "X=[[341,69,139,'yes','QI'],\n",
        " [135,79,169,'no','QI'],\n",
        "  [197,94,164,'no','CI'],\n",
        "   [110,59,135,'yes','CI'],\n",
        "    [94,58,70,'no','CI'],\n",
        "     [154,54,109,'yes','QI'],\n",
        "      [127,59,79,'yes','CI'],\n",
        "       [84,44,64,'no','CI'],\n",
        "        [118,59,150,'yes','CI'],\n",
        "         [162,59,74,'yes','CI'],\n",
        "          [254,59,125,'yes','QI'],\n",
        "           [207,60,99,'yes','QI'],\n",
        "            [148,49,86,'yes','CI'],\n",
        "             [188,65,85,'yes','CI'],\n",
        "              [92,49,72,'yes','CI'],\n",
        "               [141,59,91,'yes','QI'],\n",
        "                [398,39,149,'yes','QI'],\n",
        "                 [126,64,95,'no','CI'],\n",
        "                  [140,59,85,'yes','CI'],\n",
        "                   [103,59,105,'no','CI'],\n",
        "                    [212,49,95,'yes','CI'],\n",
        "                     [121,62,72,'yes','QI'],\n",
        "                      [109,50,75,'yes','QI'],\n",
        "                       [250,45,79,'yes','CI'],\n",
        "                        [95,59,65,'no','CI']]"
      ],
      "metadata": {
        "id": "NFrlY-I7wK2c"
      },
      "execution_count": null,
      "outputs": []
    },
    {
      "cell_type": "code",
      "source": [
        "df = pd.DataFrame(X, columns=['ROOMS', 'MIN', 'MAX','P','H'])\n",
        "df"
      ],
      "metadata": {
        "colab": {
          "base_uri": "https://localhost:8080/",
          "height": 833
        },
        "id": "NGKaSHqAke4A",
        "outputId": "df8e1a87-f07c-45cd-f74a-bb48c063471e"
      },
      "execution_count": null,
      "outputs": [
        {
          "output_type": "execute_result",
          "data": {
            "text/plain": [
              "    ROOMS  MIN  MAX    P   H\n",
              "0     341   69  139  yes  QI\n",
              "1     135   79  169   no  QI\n",
              "2     197   94  164   no  CI\n",
              "3     110   59  135  yes  CI\n",
              "4      94   58   70   no  CI\n",
              "5     154   54  109  yes  QI\n",
              "6     127   59   79  yes  CI\n",
              "7      84   44   64   no  CI\n",
              "8     118   59  150  yes  CI\n",
              "9     162   59   74  yes  CI\n",
              "10    254   59  125  yes  QI\n",
              "11    207   60   99  yes  QI\n",
              "12    148   49   86  yes  CI\n",
              "13    188   65   85  yes  CI\n",
              "14     92   49   72  yes  CI\n",
              "15    141   59   91  yes  QI\n",
              "16    398   39  149  yes  QI\n",
              "17    126   64   95   no  CI\n",
              "18    140   59   85  yes  CI\n",
              "19    103   59  105   no  CI\n",
              "20    212   49   95  yes  CI\n",
              "21    121   62   72  yes  QI\n",
              "22    109   50   75  yes  QI\n",
              "23    250   45   79  yes  CI\n",
              "24     95   59   65   no  CI"
            ],
            "text/html": [
              "\n",
              "  <div id=\"df-0406157e-c014-4169-b0ec-75cb5929384d\" class=\"colab-df-container\">\n",
              "    <div>\n",
              "<style scoped>\n",
              "    .dataframe tbody tr th:only-of-type {\n",
              "        vertical-align: middle;\n",
              "    }\n",
              "\n",
              "    .dataframe tbody tr th {\n",
              "        vertical-align: top;\n",
              "    }\n",
              "\n",
              "    .dataframe thead th {\n",
              "        text-align: right;\n",
              "    }\n",
              "</style>\n",
              "<table border=\"1\" class=\"dataframe\">\n",
              "  <thead>\n",
              "    <tr style=\"text-align: right;\">\n",
              "      <th></th>\n",
              "      <th>ROOMS</th>\n",
              "      <th>MIN</th>\n",
              "      <th>MAX</th>\n",
              "      <th>P</th>\n",
              "      <th>H</th>\n",
              "    </tr>\n",
              "  </thead>\n",
              "  <tbody>\n",
              "    <tr>\n",
              "      <th>0</th>\n",
              "      <td>341</td>\n",
              "      <td>69</td>\n",
              "      <td>139</td>\n",
              "      <td>yes</td>\n",
              "      <td>QI</td>\n",
              "    </tr>\n",
              "    <tr>\n",
              "      <th>1</th>\n",
              "      <td>135</td>\n",
              "      <td>79</td>\n",
              "      <td>169</td>\n",
              "      <td>no</td>\n",
              "      <td>QI</td>\n",
              "    </tr>\n",
              "    <tr>\n",
              "      <th>2</th>\n",
              "      <td>197</td>\n",
              "      <td>94</td>\n",
              "      <td>164</td>\n",
              "      <td>no</td>\n",
              "      <td>CI</td>\n",
              "    </tr>\n",
              "    <tr>\n",
              "      <th>3</th>\n",
              "      <td>110</td>\n",
              "      <td>59</td>\n",
              "      <td>135</td>\n",
              "      <td>yes</td>\n",
              "      <td>CI</td>\n",
              "    </tr>\n",
              "    <tr>\n",
              "      <th>4</th>\n",
              "      <td>94</td>\n",
              "      <td>58</td>\n",
              "      <td>70</td>\n",
              "      <td>no</td>\n",
              "      <td>CI</td>\n",
              "    </tr>\n",
              "    <tr>\n",
              "      <th>5</th>\n",
              "      <td>154</td>\n",
              "      <td>54</td>\n",
              "      <td>109</td>\n",
              "      <td>yes</td>\n",
              "      <td>QI</td>\n",
              "    </tr>\n",
              "    <tr>\n",
              "      <th>6</th>\n",
              "      <td>127</td>\n",
              "      <td>59</td>\n",
              "      <td>79</td>\n",
              "      <td>yes</td>\n",
              "      <td>CI</td>\n",
              "    </tr>\n",
              "    <tr>\n",
              "      <th>7</th>\n",
              "      <td>84</td>\n",
              "      <td>44</td>\n",
              "      <td>64</td>\n",
              "      <td>no</td>\n",
              "      <td>CI</td>\n",
              "    </tr>\n",
              "    <tr>\n",
              "      <th>8</th>\n",
              "      <td>118</td>\n",
              "      <td>59</td>\n",
              "      <td>150</td>\n",
              "      <td>yes</td>\n",
              "      <td>CI</td>\n",
              "    </tr>\n",
              "    <tr>\n",
              "      <th>9</th>\n",
              "      <td>162</td>\n",
              "      <td>59</td>\n",
              "      <td>74</td>\n",
              "      <td>yes</td>\n",
              "      <td>CI</td>\n",
              "    </tr>\n",
              "    <tr>\n",
              "      <th>10</th>\n",
              "      <td>254</td>\n",
              "      <td>59</td>\n",
              "      <td>125</td>\n",
              "      <td>yes</td>\n",
              "      <td>QI</td>\n",
              "    </tr>\n",
              "    <tr>\n",
              "      <th>11</th>\n",
              "      <td>207</td>\n",
              "      <td>60</td>\n",
              "      <td>99</td>\n",
              "      <td>yes</td>\n",
              "      <td>QI</td>\n",
              "    </tr>\n",
              "    <tr>\n",
              "      <th>12</th>\n",
              "      <td>148</td>\n",
              "      <td>49</td>\n",
              "      <td>86</td>\n",
              "      <td>yes</td>\n",
              "      <td>CI</td>\n",
              "    </tr>\n",
              "    <tr>\n",
              "      <th>13</th>\n",
              "      <td>188</td>\n",
              "      <td>65</td>\n",
              "      <td>85</td>\n",
              "      <td>yes</td>\n",
              "      <td>CI</td>\n",
              "    </tr>\n",
              "    <tr>\n",
              "      <th>14</th>\n",
              "      <td>92</td>\n",
              "      <td>49</td>\n",
              "      <td>72</td>\n",
              "      <td>yes</td>\n",
              "      <td>CI</td>\n",
              "    </tr>\n",
              "    <tr>\n",
              "      <th>15</th>\n",
              "      <td>141</td>\n",
              "      <td>59</td>\n",
              "      <td>91</td>\n",
              "      <td>yes</td>\n",
              "      <td>QI</td>\n",
              "    </tr>\n",
              "    <tr>\n",
              "      <th>16</th>\n",
              "      <td>398</td>\n",
              "      <td>39</td>\n",
              "      <td>149</td>\n",
              "      <td>yes</td>\n",
              "      <td>QI</td>\n",
              "    </tr>\n",
              "    <tr>\n",
              "      <th>17</th>\n",
              "      <td>126</td>\n",
              "      <td>64</td>\n",
              "      <td>95</td>\n",
              "      <td>no</td>\n",
              "      <td>CI</td>\n",
              "    </tr>\n",
              "    <tr>\n",
              "      <th>18</th>\n",
              "      <td>140</td>\n",
              "      <td>59</td>\n",
              "      <td>85</td>\n",
              "      <td>yes</td>\n",
              "      <td>CI</td>\n",
              "    </tr>\n",
              "    <tr>\n",
              "      <th>19</th>\n",
              "      <td>103</td>\n",
              "      <td>59</td>\n",
              "      <td>105</td>\n",
              "      <td>no</td>\n",
              "      <td>CI</td>\n",
              "    </tr>\n",
              "    <tr>\n",
              "      <th>20</th>\n",
              "      <td>212</td>\n",
              "      <td>49</td>\n",
              "      <td>95</td>\n",
              "      <td>yes</td>\n",
              "      <td>CI</td>\n",
              "    </tr>\n",
              "    <tr>\n",
              "      <th>21</th>\n",
              "      <td>121</td>\n",
              "      <td>62</td>\n",
              "      <td>72</td>\n",
              "      <td>yes</td>\n",
              "      <td>QI</td>\n",
              "    </tr>\n",
              "    <tr>\n",
              "      <th>22</th>\n",
              "      <td>109</td>\n",
              "      <td>50</td>\n",
              "      <td>75</td>\n",
              "      <td>yes</td>\n",
              "      <td>QI</td>\n",
              "    </tr>\n",
              "    <tr>\n",
              "      <th>23</th>\n",
              "      <td>250</td>\n",
              "      <td>45</td>\n",
              "      <td>79</td>\n",
              "      <td>yes</td>\n",
              "      <td>CI</td>\n",
              "    </tr>\n",
              "    <tr>\n",
              "      <th>24</th>\n",
              "      <td>95</td>\n",
              "      <td>59</td>\n",
              "      <td>65</td>\n",
              "      <td>no</td>\n",
              "      <td>CI</td>\n",
              "    </tr>\n",
              "  </tbody>\n",
              "</table>\n",
              "</div>\n",
              "    <div class=\"colab-df-buttons\">\n",
              "\n",
              "  <div class=\"colab-df-container\">\n",
              "    <button class=\"colab-df-convert\" onclick=\"convertToInteractive('df-0406157e-c014-4169-b0ec-75cb5929384d')\"\n",
              "            title=\"Convert this dataframe to an interactive table.\"\n",
              "            style=\"display:none;\">\n",
              "\n",
              "  <svg xmlns=\"http://www.w3.org/2000/svg\" height=\"24px\" viewBox=\"0 -960 960 960\">\n",
              "    <path d=\"M120-120v-720h720v720H120Zm60-500h600v-160H180v160Zm220 220h160v-160H400v160Zm0 220h160v-160H400v160ZM180-400h160v-160H180v160Zm440 0h160v-160H620v160ZM180-180h160v-160H180v160Zm440 0h160v-160H620v160Z\"/>\n",
              "  </svg>\n",
              "    </button>\n",
              "\n",
              "  <style>\n",
              "    .colab-df-container {\n",
              "      display:flex;\n",
              "      gap: 12px;\n",
              "    }\n",
              "\n",
              "    .colab-df-convert {\n",
              "      background-color: #E8F0FE;\n",
              "      border: none;\n",
              "      border-radius: 50%;\n",
              "      cursor: pointer;\n",
              "      display: none;\n",
              "      fill: #1967D2;\n",
              "      height: 32px;\n",
              "      padding: 0 0 0 0;\n",
              "      width: 32px;\n",
              "    }\n",
              "\n",
              "    .colab-df-convert:hover {\n",
              "      background-color: #E2EBFA;\n",
              "      box-shadow: 0px 1px 2px rgba(60, 64, 67, 0.3), 0px 1px 3px 1px rgba(60, 64, 67, 0.15);\n",
              "      fill: #174EA6;\n",
              "    }\n",
              "\n",
              "    .colab-df-buttons div {\n",
              "      margin-bottom: 4px;\n",
              "    }\n",
              "\n",
              "    [theme=dark] .colab-df-convert {\n",
              "      background-color: #3B4455;\n",
              "      fill: #D2E3FC;\n",
              "    }\n",
              "\n",
              "    [theme=dark] .colab-df-convert:hover {\n",
              "      background-color: #434B5C;\n",
              "      box-shadow: 0px 1px 3px 1px rgba(0, 0, 0, 0.15);\n",
              "      filter: drop-shadow(0px 1px 2px rgba(0, 0, 0, 0.3));\n",
              "      fill: #FFFFFF;\n",
              "    }\n",
              "  </style>\n",
              "\n",
              "    <script>\n",
              "      const buttonEl =\n",
              "        document.querySelector('#df-0406157e-c014-4169-b0ec-75cb5929384d button.colab-df-convert');\n",
              "      buttonEl.style.display =\n",
              "        google.colab.kernel.accessAllowed ? 'block' : 'none';\n",
              "\n",
              "      async function convertToInteractive(key) {\n",
              "        const element = document.querySelector('#df-0406157e-c014-4169-b0ec-75cb5929384d');\n",
              "        const dataTable =\n",
              "          await google.colab.kernel.invokeFunction('convertToInteractive',\n",
              "                                                    [key], {});\n",
              "        if (!dataTable) return;\n",
              "\n",
              "        const docLinkHtml = 'Like what you see? Visit the ' +\n",
              "          '<a target=\"_blank\" href=https://colab.research.google.com/notebooks/data_table.ipynb>data table notebook</a>'\n",
              "          + ' to learn more about interactive tables.';\n",
              "        element.innerHTML = '';\n",
              "        dataTable['output_type'] = 'display_data';\n",
              "        await google.colab.output.renderOutput(dataTable, element);\n",
              "        const docLink = document.createElement('div');\n",
              "        docLink.innerHTML = docLinkHtml;\n",
              "        element.appendChild(docLink);\n",
              "      }\n",
              "    </script>\n",
              "  </div>\n",
              "\n",
              "\n",
              "<div id=\"df-34276bcc-929e-4417-8184-66b14bbaa08b\">\n",
              "  <button class=\"colab-df-quickchart\" onclick=\"quickchart('df-34276bcc-929e-4417-8184-66b14bbaa08b')\"\n",
              "            title=\"Suggest charts\"\n",
              "            style=\"display:none;\">\n",
              "\n",
              "<svg xmlns=\"http://www.w3.org/2000/svg\" height=\"24px\"viewBox=\"0 0 24 24\"\n",
              "     width=\"24px\">\n",
              "    <g>\n",
              "        <path d=\"M19 3H5c-1.1 0-2 .9-2 2v14c0 1.1.9 2 2 2h14c1.1 0 2-.9 2-2V5c0-1.1-.9-2-2-2zM9 17H7v-7h2v7zm4 0h-2V7h2v10zm4 0h-2v-4h2v4z\"/>\n",
              "    </g>\n",
              "</svg>\n",
              "  </button>\n",
              "\n",
              "<style>\n",
              "  .colab-df-quickchart {\n",
              "      --bg-color: #E8F0FE;\n",
              "      --fill-color: #1967D2;\n",
              "      --hover-bg-color: #E2EBFA;\n",
              "      --hover-fill-color: #174EA6;\n",
              "      --disabled-fill-color: #AAA;\n",
              "      --disabled-bg-color: #DDD;\n",
              "  }\n",
              "\n",
              "  [theme=dark] .colab-df-quickchart {\n",
              "      --bg-color: #3B4455;\n",
              "      --fill-color: #D2E3FC;\n",
              "      --hover-bg-color: #434B5C;\n",
              "      --hover-fill-color: #FFFFFF;\n",
              "      --disabled-bg-color: #3B4455;\n",
              "      --disabled-fill-color: #666;\n",
              "  }\n",
              "\n",
              "  .colab-df-quickchart {\n",
              "    background-color: var(--bg-color);\n",
              "    border: none;\n",
              "    border-radius: 50%;\n",
              "    cursor: pointer;\n",
              "    display: none;\n",
              "    fill: var(--fill-color);\n",
              "    height: 32px;\n",
              "    padding: 0;\n",
              "    width: 32px;\n",
              "  }\n",
              "\n",
              "  .colab-df-quickchart:hover {\n",
              "    background-color: var(--hover-bg-color);\n",
              "    box-shadow: 0 1px 2px rgba(60, 64, 67, 0.3), 0 1px 3px 1px rgba(60, 64, 67, 0.15);\n",
              "    fill: var(--button-hover-fill-color);\n",
              "  }\n",
              "\n",
              "  .colab-df-quickchart-complete:disabled,\n",
              "  .colab-df-quickchart-complete:disabled:hover {\n",
              "    background-color: var(--disabled-bg-color);\n",
              "    fill: var(--disabled-fill-color);\n",
              "    box-shadow: none;\n",
              "  }\n",
              "\n",
              "  .colab-df-spinner {\n",
              "    border: 2px solid var(--fill-color);\n",
              "    border-color: transparent;\n",
              "    border-bottom-color: var(--fill-color);\n",
              "    animation:\n",
              "      spin 1s steps(1) infinite;\n",
              "  }\n",
              "\n",
              "  @keyframes spin {\n",
              "    0% {\n",
              "      border-color: transparent;\n",
              "      border-bottom-color: var(--fill-color);\n",
              "      border-left-color: var(--fill-color);\n",
              "    }\n",
              "    20% {\n",
              "      border-color: transparent;\n",
              "      border-left-color: var(--fill-color);\n",
              "      border-top-color: var(--fill-color);\n",
              "    }\n",
              "    30% {\n",
              "      border-color: transparent;\n",
              "      border-left-color: var(--fill-color);\n",
              "      border-top-color: var(--fill-color);\n",
              "      border-right-color: var(--fill-color);\n",
              "    }\n",
              "    40% {\n",
              "      border-color: transparent;\n",
              "      border-right-color: var(--fill-color);\n",
              "      border-top-color: var(--fill-color);\n",
              "    }\n",
              "    60% {\n",
              "      border-color: transparent;\n",
              "      border-right-color: var(--fill-color);\n",
              "    }\n",
              "    80% {\n",
              "      border-color: transparent;\n",
              "      border-right-color: var(--fill-color);\n",
              "      border-bottom-color: var(--fill-color);\n",
              "    }\n",
              "    90% {\n",
              "      border-color: transparent;\n",
              "      border-bottom-color: var(--fill-color);\n",
              "    }\n",
              "  }\n",
              "</style>\n",
              "\n",
              "  <script>\n",
              "    async function quickchart(key) {\n",
              "      const quickchartButtonEl =\n",
              "        document.querySelector('#' + key + ' button');\n",
              "      quickchartButtonEl.disabled = true;  // To prevent multiple clicks.\n",
              "      quickchartButtonEl.classList.add('colab-df-spinner');\n",
              "      try {\n",
              "        const charts = await google.colab.kernel.invokeFunction(\n",
              "            'suggestCharts', [key], {});\n",
              "      } catch (error) {\n",
              "        console.error('Error during call to suggestCharts:', error);\n",
              "      }\n",
              "      quickchartButtonEl.classList.remove('colab-df-spinner');\n",
              "      quickchartButtonEl.classList.add('colab-df-quickchart-complete');\n",
              "    }\n",
              "    (() => {\n",
              "      let quickchartButtonEl =\n",
              "        document.querySelector('#df-34276bcc-929e-4417-8184-66b14bbaa08b button');\n",
              "      quickchartButtonEl.style.display =\n",
              "        google.colab.kernel.accessAllowed ? 'block' : 'none';\n",
              "    })();\n",
              "  </script>\n",
              "</div>\n",
              "\n",
              "  <div id=\"id_8478f95a-6a60-4dbb-947e-fe4d21e2cc87\">\n",
              "    <style>\n",
              "      .colab-df-generate {\n",
              "        background-color: #E8F0FE;\n",
              "        border: none;\n",
              "        border-radius: 50%;\n",
              "        cursor: pointer;\n",
              "        display: none;\n",
              "        fill: #1967D2;\n",
              "        height: 32px;\n",
              "        padding: 0 0 0 0;\n",
              "        width: 32px;\n",
              "      }\n",
              "\n",
              "      .colab-df-generate:hover {\n",
              "        background-color: #E2EBFA;\n",
              "        box-shadow: 0px 1px 2px rgba(60, 64, 67, 0.3), 0px 1px 3px 1px rgba(60, 64, 67, 0.15);\n",
              "        fill: #174EA6;\n",
              "      }\n",
              "\n",
              "      [theme=dark] .colab-df-generate {\n",
              "        background-color: #3B4455;\n",
              "        fill: #D2E3FC;\n",
              "      }\n",
              "\n",
              "      [theme=dark] .colab-df-generate:hover {\n",
              "        background-color: #434B5C;\n",
              "        box-shadow: 0px 1px 3px 1px rgba(0, 0, 0, 0.15);\n",
              "        filter: drop-shadow(0px 1px 2px rgba(0, 0, 0, 0.3));\n",
              "        fill: #FFFFFF;\n",
              "      }\n",
              "    </style>\n",
              "    <button class=\"colab-df-generate\" onclick=\"generateWithVariable('df')\"\n",
              "            title=\"Generate code using this dataframe.\"\n",
              "            style=\"display:none;\">\n",
              "\n",
              "  <svg xmlns=\"http://www.w3.org/2000/svg\" height=\"24px\"viewBox=\"0 0 24 24\"\n",
              "       width=\"24px\">\n",
              "    <path d=\"M7,19H8.4L18.45,9,17,7.55,7,17.6ZM5,21V16.75L18.45,3.32a2,2,0,0,1,2.83,0l1.4,1.43a1.91,1.91,0,0,1,.58,1.4,1.91,1.91,0,0,1-.58,1.4L9.25,21ZM18.45,9,17,7.55Zm-12,3A5.31,5.31,0,0,0,4.9,8.1,5.31,5.31,0,0,0,1,6.5,5.31,5.31,0,0,0,4.9,4.9,5.31,5.31,0,0,0,6.5,1,5.31,5.31,0,0,0,8.1,4.9,5.31,5.31,0,0,0,12,6.5,5.46,5.46,0,0,0,6.5,12Z\"/>\n",
              "  </svg>\n",
              "    </button>\n",
              "    <script>\n",
              "      (() => {\n",
              "      const buttonEl =\n",
              "        document.querySelector('#id_8478f95a-6a60-4dbb-947e-fe4d21e2cc87 button.colab-df-generate');\n",
              "      buttonEl.style.display =\n",
              "        google.colab.kernel.accessAllowed ? 'block' : 'none';\n",
              "\n",
              "      buttonEl.onclick = () => {\n",
              "        google.colab.notebook.generateWithVariable('df');\n",
              "      }\n",
              "      })();\n",
              "    </script>\n",
              "  </div>\n",
              "\n",
              "    </div>\n",
              "  </div>\n"
            ]
          },
          "metadata": {},
          "execution_count": 31
        }
      ]
    },
    {
      "cell_type": "code",
      "source": [
        "df[df['H']=='CI']"
      ],
      "metadata": {
        "colab": {
          "base_uri": "https://localhost:8080/",
          "height": 551
        },
        "id": "rYZCZEpekwY5",
        "outputId": "db1a9b31-edaf-4d62-f5b5-6466b9006af5"
      },
      "execution_count": null,
      "outputs": [
        {
          "output_type": "execute_result",
          "data": {
            "text/plain": [
              "    ROOMS  MIN  MAX    P   H\n",
              "2     197   94  164   no  CI\n",
              "3     110   59  135  yes  CI\n",
              "4      94   58   70   no  CI\n",
              "6     127   59   79  yes  CI\n",
              "7      84   44   64   no  CI\n",
              "8     118   59  150  yes  CI\n",
              "9     162   59   74  yes  CI\n",
              "12    148   49   86  yes  CI\n",
              "13    188   65   85  yes  CI\n",
              "14     92   49   72  yes  CI\n",
              "17    126   64   95   no  CI\n",
              "18    140   59   85  yes  CI\n",
              "19    103   59  105   no  CI\n",
              "20    212   49   95  yes  CI\n",
              "23    250   45   79  yes  CI\n",
              "24     95   59   65   no  CI"
            ],
            "text/html": [
              "\n",
              "  <div id=\"df-434e871b-90b1-4b01-a741-b2fbb00e7005\" class=\"colab-df-container\">\n",
              "    <div>\n",
              "<style scoped>\n",
              "    .dataframe tbody tr th:only-of-type {\n",
              "        vertical-align: middle;\n",
              "    }\n",
              "\n",
              "    .dataframe tbody tr th {\n",
              "        vertical-align: top;\n",
              "    }\n",
              "\n",
              "    .dataframe thead th {\n",
              "        text-align: right;\n",
              "    }\n",
              "</style>\n",
              "<table border=\"1\" class=\"dataframe\">\n",
              "  <thead>\n",
              "    <tr style=\"text-align: right;\">\n",
              "      <th></th>\n",
              "      <th>ROOMS</th>\n",
              "      <th>MIN</th>\n",
              "      <th>MAX</th>\n",
              "      <th>P</th>\n",
              "      <th>H</th>\n",
              "    </tr>\n",
              "  </thead>\n",
              "  <tbody>\n",
              "    <tr>\n",
              "      <th>2</th>\n",
              "      <td>197</td>\n",
              "      <td>94</td>\n",
              "      <td>164</td>\n",
              "      <td>no</td>\n",
              "      <td>CI</td>\n",
              "    </tr>\n",
              "    <tr>\n",
              "      <th>3</th>\n",
              "      <td>110</td>\n",
              "      <td>59</td>\n",
              "      <td>135</td>\n",
              "      <td>yes</td>\n",
              "      <td>CI</td>\n",
              "    </tr>\n",
              "    <tr>\n",
              "      <th>4</th>\n",
              "      <td>94</td>\n",
              "      <td>58</td>\n",
              "      <td>70</td>\n",
              "      <td>no</td>\n",
              "      <td>CI</td>\n",
              "    </tr>\n",
              "    <tr>\n",
              "      <th>6</th>\n",
              "      <td>127</td>\n",
              "      <td>59</td>\n",
              "      <td>79</td>\n",
              "      <td>yes</td>\n",
              "      <td>CI</td>\n",
              "    </tr>\n",
              "    <tr>\n",
              "      <th>7</th>\n",
              "      <td>84</td>\n",
              "      <td>44</td>\n",
              "      <td>64</td>\n",
              "      <td>no</td>\n",
              "      <td>CI</td>\n",
              "    </tr>\n",
              "    <tr>\n",
              "      <th>8</th>\n",
              "      <td>118</td>\n",
              "      <td>59</td>\n",
              "      <td>150</td>\n",
              "      <td>yes</td>\n",
              "      <td>CI</td>\n",
              "    </tr>\n",
              "    <tr>\n",
              "      <th>9</th>\n",
              "      <td>162</td>\n",
              "      <td>59</td>\n",
              "      <td>74</td>\n",
              "      <td>yes</td>\n",
              "      <td>CI</td>\n",
              "    </tr>\n",
              "    <tr>\n",
              "      <th>12</th>\n",
              "      <td>148</td>\n",
              "      <td>49</td>\n",
              "      <td>86</td>\n",
              "      <td>yes</td>\n",
              "      <td>CI</td>\n",
              "    </tr>\n",
              "    <tr>\n",
              "      <th>13</th>\n",
              "      <td>188</td>\n",
              "      <td>65</td>\n",
              "      <td>85</td>\n",
              "      <td>yes</td>\n",
              "      <td>CI</td>\n",
              "    </tr>\n",
              "    <tr>\n",
              "      <th>14</th>\n",
              "      <td>92</td>\n",
              "      <td>49</td>\n",
              "      <td>72</td>\n",
              "      <td>yes</td>\n",
              "      <td>CI</td>\n",
              "    </tr>\n",
              "    <tr>\n",
              "      <th>17</th>\n",
              "      <td>126</td>\n",
              "      <td>64</td>\n",
              "      <td>95</td>\n",
              "      <td>no</td>\n",
              "      <td>CI</td>\n",
              "    </tr>\n",
              "    <tr>\n",
              "      <th>18</th>\n",
              "      <td>140</td>\n",
              "      <td>59</td>\n",
              "      <td>85</td>\n",
              "      <td>yes</td>\n",
              "      <td>CI</td>\n",
              "    </tr>\n",
              "    <tr>\n",
              "      <th>19</th>\n",
              "      <td>103</td>\n",
              "      <td>59</td>\n",
              "      <td>105</td>\n",
              "      <td>no</td>\n",
              "      <td>CI</td>\n",
              "    </tr>\n",
              "    <tr>\n",
              "      <th>20</th>\n",
              "      <td>212</td>\n",
              "      <td>49</td>\n",
              "      <td>95</td>\n",
              "      <td>yes</td>\n",
              "      <td>CI</td>\n",
              "    </tr>\n",
              "    <tr>\n",
              "      <th>23</th>\n",
              "      <td>250</td>\n",
              "      <td>45</td>\n",
              "      <td>79</td>\n",
              "      <td>yes</td>\n",
              "      <td>CI</td>\n",
              "    </tr>\n",
              "    <tr>\n",
              "      <th>24</th>\n",
              "      <td>95</td>\n",
              "      <td>59</td>\n",
              "      <td>65</td>\n",
              "      <td>no</td>\n",
              "      <td>CI</td>\n",
              "    </tr>\n",
              "  </tbody>\n",
              "</table>\n",
              "</div>\n",
              "    <div class=\"colab-df-buttons\">\n",
              "\n",
              "  <div class=\"colab-df-container\">\n",
              "    <button class=\"colab-df-convert\" onclick=\"convertToInteractive('df-434e871b-90b1-4b01-a741-b2fbb00e7005')\"\n",
              "            title=\"Convert this dataframe to an interactive table.\"\n",
              "            style=\"display:none;\">\n",
              "\n",
              "  <svg xmlns=\"http://www.w3.org/2000/svg\" height=\"24px\" viewBox=\"0 -960 960 960\">\n",
              "    <path d=\"M120-120v-720h720v720H120Zm60-500h600v-160H180v160Zm220 220h160v-160H400v160Zm0 220h160v-160H400v160ZM180-400h160v-160H180v160Zm440 0h160v-160H620v160ZM180-180h160v-160H180v160Zm440 0h160v-160H620v160Z\"/>\n",
              "  </svg>\n",
              "    </button>\n",
              "\n",
              "  <style>\n",
              "    .colab-df-container {\n",
              "      display:flex;\n",
              "      gap: 12px;\n",
              "    }\n",
              "\n",
              "    .colab-df-convert {\n",
              "      background-color: #E8F0FE;\n",
              "      border: none;\n",
              "      border-radius: 50%;\n",
              "      cursor: pointer;\n",
              "      display: none;\n",
              "      fill: #1967D2;\n",
              "      height: 32px;\n",
              "      padding: 0 0 0 0;\n",
              "      width: 32px;\n",
              "    }\n",
              "\n",
              "    .colab-df-convert:hover {\n",
              "      background-color: #E2EBFA;\n",
              "      box-shadow: 0px 1px 2px rgba(60, 64, 67, 0.3), 0px 1px 3px 1px rgba(60, 64, 67, 0.15);\n",
              "      fill: #174EA6;\n",
              "    }\n",
              "\n",
              "    .colab-df-buttons div {\n",
              "      margin-bottom: 4px;\n",
              "    }\n",
              "\n",
              "    [theme=dark] .colab-df-convert {\n",
              "      background-color: #3B4455;\n",
              "      fill: #D2E3FC;\n",
              "    }\n",
              "\n",
              "    [theme=dark] .colab-df-convert:hover {\n",
              "      background-color: #434B5C;\n",
              "      box-shadow: 0px 1px 3px 1px rgba(0, 0, 0, 0.15);\n",
              "      filter: drop-shadow(0px 1px 2px rgba(0, 0, 0, 0.3));\n",
              "      fill: #FFFFFF;\n",
              "    }\n",
              "  </style>\n",
              "\n",
              "    <script>\n",
              "      const buttonEl =\n",
              "        document.querySelector('#df-434e871b-90b1-4b01-a741-b2fbb00e7005 button.colab-df-convert');\n",
              "      buttonEl.style.display =\n",
              "        google.colab.kernel.accessAllowed ? 'block' : 'none';\n",
              "\n",
              "      async function convertToInteractive(key) {\n",
              "        const element = document.querySelector('#df-434e871b-90b1-4b01-a741-b2fbb00e7005');\n",
              "        const dataTable =\n",
              "          await google.colab.kernel.invokeFunction('convertToInteractive',\n",
              "                                                    [key], {});\n",
              "        if (!dataTable) return;\n",
              "\n",
              "        const docLinkHtml = 'Like what you see? Visit the ' +\n",
              "          '<a target=\"_blank\" href=https://colab.research.google.com/notebooks/data_table.ipynb>data table notebook</a>'\n",
              "          + ' to learn more about interactive tables.';\n",
              "        element.innerHTML = '';\n",
              "        dataTable['output_type'] = 'display_data';\n",
              "        await google.colab.output.renderOutput(dataTable, element);\n",
              "        const docLink = document.createElement('div');\n",
              "        docLink.innerHTML = docLinkHtml;\n",
              "        element.appendChild(docLink);\n",
              "      }\n",
              "    </script>\n",
              "  </div>\n",
              "\n",
              "\n",
              "<div id=\"df-81803ca1-4564-4216-84e2-c87f197cacc7\">\n",
              "  <button class=\"colab-df-quickchart\" onclick=\"quickchart('df-81803ca1-4564-4216-84e2-c87f197cacc7')\"\n",
              "            title=\"Suggest charts\"\n",
              "            style=\"display:none;\">\n",
              "\n",
              "<svg xmlns=\"http://www.w3.org/2000/svg\" height=\"24px\"viewBox=\"0 0 24 24\"\n",
              "     width=\"24px\">\n",
              "    <g>\n",
              "        <path d=\"M19 3H5c-1.1 0-2 .9-2 2v14c0 1.1.9 2 2 2h14c1.1 0 2-.9 2-2V5c0-1.1-.9-2-2-2zM9 17H7v-7h2v7zm4 0h-2V7h2v10zm4 0h-2v-4h2v4z\"/>\n",
              "    </g>\n",
              "</svg>\n",
              "  </button>\n",
              "\n",
              "<style>\n",
              "  .colab-df-quickchart {\n",
              "      --bg-color: #E8F0FE;\n",
              "      --fill-color: #1967D2;\n",
              "      --hover-bg-color: #E2EBFA;\n",
              "      --hover-fill-color: #174EA6;\n",
              "      --disabled-fill-color: #AAA;\n",
              "      --disabled-bg-color: #DDD;\n",
              "  }\n",
              "\n",
              "  [theme=dark] .colab-df-quickchart {\n",
              "      --bg-color: #3B4455;\n",
              "      --fill-color: #D2E3FC;\n",
              "      --hover-bg-color: #434B5C;\n",
              "      --hover-fill-color: #FFFFFF;\n",
              "      --disabled-bg-color: #3B4455;\n",
              "      --disabled-fill-color: #666;\n",
              "  }\n",
              "\n",
              "  .colab-df-quickchart {\n",
              "    background-color: var(--bg-color);\n",
              "    border: none;\n",
              "    border-radius: 50%;\n",
              "    cursor: pointer;\n",
              "    display: none;\n",
              "    fill: var(--fill-color);\n",
              "    height: 32px;\n",
              "    padding: 0;\n",
              "    width: 32px;\n",
              "  }\n",
              "\n",
              "  .colab-df-quickchart:hover {\n",
              "    background-color: var(--hover-bg-color);\n",
              "    box-shadow: 0 1px 2px rgba(60, 64, 67, 0.3), 0 1px 3px 1px rgba(60, 64, 67, 0.15);\n",
              "    fill: var(--button-hover-fill-color);\n",
              "  }\n",
              "\n",
              "  .colab-df-quickchart-complete:disabled,\n",
              "  .colab-df-quickchart-complete:disabled:hover {\n",
              "    background-color: var(--disabled-bg-color);\n",
              "    fill: var(--disabled-fill-color);\n",
              "    box-shadow: none;\n",
              "  }\n",
              "\n",
              "  .colab-df-spinner {\n",
              "    border: 2px solid var(--fill-color);\n",
              "    border-color: transparent;\n",
              "    border-bottom-color: var(--fill-color);\n",
              "    animation:\n",
              "      spin 1s steps(1) infinite;\n",
              "  }\n",
              "\n",
              "  @keyframes spin {\n",
              "    0% {\n",
              "      border-color: transparent;\n",
              "      border-bottom-color: var(--fill-color);\n",
              "      border-left-color: var(--fill-color);\n",
              "    }\n",
              "    20% {\n",
              "      border-color: transparent;\n",
              "      border-left-color: var(--fill-color);\n",
              "      border-top-color: var(--fill-color);\n",
              "    }\n",
              "    30% {\n",
              "      border-color: transparent;\n",
              "      border-left-color: var(--fill-color);\n",
              "      border-top-color: var(--fill-color);\n",
              "      border-right-color: var(--fill-color);\n",
              "    }\n",
              "    40% {\n",
              "      border-color: transparent;\n",
              "      border-right-color: var(--fill-color);\n",
              "      border-top-color: var(--fill-color);\n",
              "    }\n",
              "    60% {\n",
              "      border-color: transparent;\n",
              "      border-right-color: var(--fill-color);\n",
              "    }\n",
              "    80% {\n",
              "      border-color: transparent;\n",
              "      border-right-color: var(--fill-color);\n",
              "      border-bottom-color: var(--fill-color);\n",
              "    }\n",
              "    90% {\n",
              "      border-color: transparent;\n",
              "      border-bottom-color: var(--fill-color);\n",
              "    }\n",
              "  }\n",
              "</style>\n",
              "\n",
              "  <script>\n",
              "    async function quickchart(key) {\n",
              "      const quickchartButtonEl =\n",
              "        document.querySelector('#' + key + ' button');\n",
              "      quickchartButtonEl.disabled = true;  // To prevent multiple clicks.\n",
              "      quickchartButtonEl.classList.add('colab-df-spinner');\n",
              "      try {\n",
              "        const charts = await google.colab.kernel.invokeFunction(\n",
              "            'suggestCharts', [key], {});\n",
              "      } catch (error) {\n",
              "        console.error('Error during call to suggestCharts:', error);\n",
              "      }\n",
              "      quickchartButtonEl.classList.remove('colab-df-spinner');\n",
              "      quickchartButtonEl.classList.add('colab-df-quickchart-complete');\n",
              "    }\n",
              "    (() => {\n",
              "      let quickchartButtonEl =\n",
              "        document.querySelector('#df-81803ca1-4564-4216-84e2-c87f197cacc7 button');\n",
              "      quickchartButtonEl.style.display =\n",
              "        google.colab.kernel.accessAllowed ? 'block' : 'none';\n",
              "    })();\n",
              "  </script>\n",
              "</div>\n",
              "\n",
              "    </div>\n",
              "  </div>\n"
            ]
          },
          "metadata": {},
          "execution_count": 32
        }
      ]
    },
    {
      "cell_type": "code",
      "source": [
        "X1=df[df['H']=='QI'].values[:,:3]\n",
        "X1 = np.array(X1, dtype=float)\n",
        "X1"
      ],
      "metadata": {
        "colab": {
          "base_uri": "https://localhost:8080/"
        },
        "id": "3yDW2qMuk5_k",
        "outputId": "2b013a9e-9e3e-4045-ecda-857b36de3d0a"
      },
      "execution_count": null,
      "outputs": [
        {
          "output_type": "execute_result",
          "data": {
            "text/plain": [
              "array([[341.,  69., 139.],\n",
              "       [135.,  79., 169.],\n",
              "       [154.,  54., 109.],\n",
              "       [254.,  59., 125.],\n",
              "       [207.,  60.,  99.],\n",
              "       [141.,  59.,  91.],\n",
              "       [398.,  39., 149.],\n",
              "       [121.,  62.,  72.],\n",
              "       [109.,  50.,  75.]])"
            ]
          },
          "metadata": {},
          "execution_count": 33
        }
      ]
    },
    {
      "cell_type": "code",
      "source": [
        "mu = np.mean(X1, axis=0)\n",
        "mu"
      ],
      "metadata": {
        "colab": {
          "base_uri": "https://localhost:8080/"
        },
        "id": "pOqisrnXldCF",
        "outputId": "b01c397a-dd7e-4c82-d31e-954a03f23382"
      },
      "execution_count": null,
      "outputs": [
        {
          "output_type": "execute_result",
          "data": {
            "text/plain": [
              "array([206.66666667,  59.        , 114.22222222])"
            ]
          },
          "metadata": {},
          "execution_count": 34
        }
      ]
    },
    {
      "cell_type": "code",
      "source": [
        "X_c = X1 - mu\n",
        "cov_matrix = np.cov(X_c, rowvar=False)\n",
        "cov_matrix"
      ],
      "metadata": {
        "colab": {
          "base_uri": "https://localhost:8080/"
        },
        "id": "VzNTjzOqlhr1",
        "outputId": "5d533599-dd0b-413e-b27a-92fd373aa4a4"
      },
      "execution_count": null,
      "outputs": [
        {
          "output_type": "execute_result",
          "data": {
            "text/plain": [
              "array([[10749.25      ,  -378.875     ,  1976.20833333],\n",
              "       [ -378.875     ,   127.        ,   110.625     ],\n",
              "       [ 1976.20833333,   110.625     ,  1132.44444444]])"
            ]
          },
          "metadata": {},
          "execution_count": 35
        }
      ]
    },
    {
      "cell_type": "code",
      "source": [
        "std_dev = np.sqrt(np.diag(cov_matrix))\n",
        "correlation_matrix_np = cov_matrix / np.outer(std_dev, std_dev)\n",
        "correlation_matrix_np"
      ],
      "metadata": {
        "colab": {
          "base_uri": "https://localhost:8080/"
        },
        "id": "nbXl5VeZmACw",
        "outputId": "29e8bec1-4b7c-40d7-d413-1741cf791799"
      },
      "execution_count": null,
      "outputs": [
        {
          "output_type": "execute_result",
          "data": {
            "text/plain": [
              "array([[ 1.        , -0.32426868,  0.56641558],\n",
              "       [-0.32426868,  1.        ,  0.29170439],\n",
              "       [ 0.56641558,  0.29170439,  1.        ]])"
            ]
          },
          "metadata": {},
          "execution_count": 36
        }
      ]
    },
    {
      "cell_type": "code",
      "source": [
        "X2=df[df['H']=='CI'].values[:,:3]\n",
        "X2 = np.array(X2, dtype=float)\n",
        "X2"
      ],
      "metadata": {
        "colab": {
          "base_uri": "https://localhost:8080/"
        },
        "id": "-i3NLiGOm--O",
        "outputId": "4f92c1e3-3995-48e9-8c6b-bc3b573ddd40"
      },
      "execution_count": null,
      "outputs": [
        {
          "output_type": "execute_result",
          "data": {
            "text/plain": [
              "array([[197.,  94., 164.],\n",
              "       [110.,  59., 135.],\n",
              "       [ 94.,  58.,  70.],\n",
              "       [127.,  59.,  79.],\n",
              "       [ 84.,  44.,  64.],\n",
              "       [118.,  59., 150.],\n",
              "       [162.,  59.,  74.],\n",
              "       [148.,  49.,  86.],\n",
              "       [188.,  65.,  85.],\n",
              "       [ 92.,  49.,  72.],\n",
              "       [126.,  64.,  95.],\n",
              "       [140.,  59.,  85.],\n",
              "       [103.,  59., 105.],\n",
              "       [212.,  49.,  95.],\n",
              "       [250.,  45.,  79.],\n",
              "       [ 95.,  59.,  65.]])"
            ]
          },
          "metadata": {},
          "execution_count": 37
        }
      ]
    },
    {
      "cell_type": "code",
      "source": [
        "mu = np.mean(X2, axis=0)\n",
        "mu"
      ],
      "metadata": {
        "colab": {
          "base_uri": "https://localhost:8080/"
        },
        "id": "pGF28xTynftO",
        "outputId": "1fe15c1d-64ec-43ea-b41e-4d34133027e2"
      },
      "execution_count": null,
      "outputs": [
        {
          "output_type": "execute_result",
          "data": {
            "text/plain": [
              "array([140.375 ,  58.125 ,  93.9375])"
            ]
          },
          "metadata": {},
          "execution_count": 38
        }
      ]
    },
    {
      "cell_type": "code",
      "source": [
        "X_c = X2 - mu\n",
        "cov_matrix = np.cov(X_c, rowvar=False)\n",
        "cov_matrix"
      ],
      "metadata": {
        "colab": {
          "base_uri": "https://localhost:8080/"
        },
        "id": "HqJrb0dFniZG",
        "outputId": "b8985368-474c-454c-bb0c-0c0d9083f296"
      },
      "execution_count": null,
      "outputs": [
        {
          "output_type": "execute_result",
          "data": {
            "text/plain": [
              "array([[2405.45      ,   82.95      ,  262.225     ],\n",
              "       [  82.95      ,  133.05      ,  224.94166667],\n",
              "       [ 262.225     ,  224.94166667,  914.4625    ]])"
            ]
          },
          "metadata": {},
          "execution_count": 39
        }
      ]
    },
    {
      "cell_type": "code",
      "source": [
        "std_dev = np.sqrt(np.diag(cov_matrix))\n",
        "correlation_matrix_np = cov_matrix / np.outer(std_dev, std_dev)\n",
        "correlation_matrix_np"
      ],
      "metadata": {
        "colab": {
          "base_uri": "https://localhost:8080/"
        },
        "id": "B_d6jyTznpwe",
        "outputId": "63d31d03-1cc1-4501-98a0-1dd728feaf63"
      },
      "execution_count": null,
      "outputs": [
        {
          "output_type": "execute_result",
          "data": {
            "text/plain": [
              "array([[1.        , 0.14662593, 0.17680436],\n",
              "       [0.14662593, 1.        , 0.64488091],\n",
              "       [0.17680436, 0.64488091, 1.        ]])"
            ]
          },
          "metadata": {},
          "execution_count": 40
        }
      ]
    },
    {
      "cell_type": "code",
      "source": [
        "df[df['P']=='no']"
      ],
      "metadata": {
        "colab": {
          "base_uri": "https://localhost:8080/",
          "height": 269
        },
        "id": "aXQkRloxpe24",
        "outputId": "43537183-9747-4204-f576-47bc758a5c1f"
      },
      "execution_count": null,
      "outputs": [
        {
          "output_type": "execute_result",
          "data": {
            "text/plain": [
              "    ROOMS  MIN  MAX   P   H\n",
              "1     135   79  169  no  QI\n",
              "2     197   94  164  no  CI\n",
              "4      94   58   70  no  CI\n",
              "7      84   44   64  no  CI\n",
              "17    126   64   95  no  CI\n",
              "19    103   59  105  no  CI\n",
              "24     95   59   65  no  CI"
            ],
            "text/html": [
              "\n",
              "  <div id=\"df-bdd74f74-3ea2-481b-8cc6-c94ef5b8f53d\" class=\"colab-df-container\">\n",
              "    <div>\n",
              "<style scoped>\n",
              "    .dataframe tbody tr th:only-of-type {\n",
              "        vertical-align: middle;\n",
              "    }\n",
              "\n",
              "    .dataframe tbody tr th {\n",
              "        vertical-align: top;\n",
              "    }\n",
              "\n",
              "    .dataframe thead th {\n",
              "        text-align: right;\n",
              "    }\n",
              "</style>\n",
              "<table border=\"1\" class=\"dataframe\">\n",
              "  <thead>\n",
              "    <tr style=\"text-align: right;\">\n",
              "      <th></th>\n",
              "      <th>ROOMS</th>\n",
              "      <th>MIN</th>\n",
              "      <th>MAX</th>\n",
              "      <th>P</th>\n",
              "      <th>H</th>\n",
              "    </tr>\n",
              "  </thead>\n",
              "  <tbody>\n",
              "    <tr>\n",
              "      <th>1</th>\n",
              "      <td>135</td>\n",
              "      <td>79</td>\n",
              "      <td>169</td>\n",
              "      <td>no</td>\n",
              "      <td>QI</td>\n",
              "    </tr>\n",
              "    <tr>\n",
              "      <th>2</th>\n",
              "      <td>197</td>\n",
              "      <td>94</td>\n",
              "      <td>164</td>\n",
              "      <td>no</td>\n",
              "      <td>CI</td>\n",
              "    </tr>\n",
              "    <tr>\n",
              "      <th>4</th>\n",
              "      <td>94</td>\n",
              "      <td>58</td>\n",
              "      <td>70</td>\n",
              "      <td>no</td>\n",
              "      <td>CI</td>\n",
              "    </tr>\n",
              "    <tr>\n",
              "      <th>7</th>\n",
              "      <td>84</td>\n",
              "      <td>44</td>\n",
              "      <td>64</td>\n",
              "      <td>no</td>\n",
              "      <td>CI</td>\n",
              "    </tr>\n",
              "    <tr>\n",
              "      <th>17</th>\n",
              "      <td>126</td>\n",
              "      <td>64</td>\n",
              "      <td>95</td>\n",
              "      <td>no</td>\n",
              "      <td>CI</td>\n",
              "    </tr>\n",
              "    <tr>\n",
              "      <th>19</th>\n",
              "      <td>103</td>\n",
              "      <td>59</td>\n",
              "      <td>105</td>\n",
              "      <td>no</td>\n",
              "      <td>CI</td>\n",
              "    </tr>\n",
              "    <tr>\n",
              "      <th>24</th>\n",
              "      <td>95</td>\n",
              "      <td>59</td>\n",
              "      <td>65</td>\n",
              "      <td>no</td>\n",
              "      <td>CI</td>\n",
              "    </tr>\n",
              "  </tbody>\n",
              "</table>\n",
              "</div>\n",
              "    <div class=\"colab-df-buttons\">\n",
              "\n",
              "  <div class=\"colab-df-container\">\n",
              "    <button class=\"colab-df-convert\" onclick=\"convertToInteractive('df-bdd74f74-3ea2-481b-8cc6-c94ef5b8f53d')\"\n",
              "            title=\"Convert this dataframe to an interactive table.\"\n",
              "            style=\"display:none;\">\n",
              "\n",
              "  <svg xmlns=\"http://www.w3.org/2000/svg\" height=\"24px\" viewBox=\"0 -960 960 960\">\n",
              "    <path d=\"M120-120v-720h720v720H120Zm60-500h600v-160H180v160Zm220 220h160v-160H400v160Zm0 220h160v-160H400v160ZM180-400h160v-160H180v160Zm440 0h160v-160H620v160ZM180-180h160v-160H180v160Zm440 0h160v-160H620v160Z\"/>\n",
              "  </svg>\n",
              "    </button>\n",
              "\n",
              "  <style>\n",
              "    .colab-df-container {\n",
              "      display:flex;\n",
              "      gap: 12px;\n",
              "    }\n",
              "\n",
              "    .colab-df-convert {\n",
              "      background-color: #E8F0FE;\n",
              "      border: none;\n",
              "      border-radius: 50%;\n",
              "      cursor: pointer;\n",
              "      display: none;\n",
              "      fill: #1967D2;\n",
              "      height: 32px;\n",
              "      padding: 0 0 0 0;\n",
              "      width: 32px;\n",
              "    }\n",
              "\n",
              "    .colab-df-convert:hover {\n",
              "      background-color: #E2EBFA;\n",
              "      box-shadow: 0px 1px 2px rgba(60, 64, 67, 0.3), 0px 1px 3px 1px rgba(60, 64, 67, 0.15);\n",
              "      fill: #174EA6;\n",
              "    }\n",
              "\n",
              "    .colab-df-buttons div {\n",
              "      margin-bottom: 4px;\n",
              "    }\n",
              "\n",
              "    [theme=dark] .colab-df-convert {\n",
              "      background-color: #3B4455;\n",
              "      fill: #D2E3FC;\n",
              "    }\n",
              "\n",
              "    [theme=dark] .colab-df-convert:hover {\n",
              "      background-color: #434B5C;\n",
              "      box-shadow: 0px 1px 3px 1px rgba(0, 0, 0, 0.15);\n",
              "      filter: drop-shadow(0px 1px 2px rgba(0, 0, 0, 0.3));\n",
              "      fill: #FFFFFF;\n",
              "    }\n",
              "  </style>\n",
              "\n",
              "    <script>\n",
              "      const buttonEl =\n",
              "        document.querySelector('#df-bdd74f74-3ea2-481b-8cc6-c94ef5b8f53d button.colab-df-convert');\n",
              "      buttonEl.style.display =\n",
              "        google.colab.kernel.accessAllowed ? 'block' : 'none';\n",
              "\n",
              "      async function convertToInteractive(key) {\n",
              "        const element = document.querySelector('#df-bdd74f74-3ea2-481b-8cc6-c94ef5b8f53d');\n",
              "        const dataTable =\n",
              "          await google.colab.kernel.invokeFunction('convertToInteractive',\n",
              "                                                    [key], {});\n",
              "        if (!dataTable) return;\n",
              "\n",
              "        const docLinkHtml = 'Like what you see? Visit the ' +\n",
              "          '<a target=\"_blank\" href=https://colab.research.google.com/notebooks/data_table.ipynb>data table notebook</a>'\n",
              "          + ' to learn more about interactive tables.';\n",
              "        element.innerHTML = '';\n",
              "        dataTable['output_type'] = 'display_data';\n",
              "        await google.colab.output.renderOutput(dataTable, element);\n",
              "        const docLink = document.createElement('div');\n",
              "        docLink.innerHTML = docLinkHtml;\n",
              "        element.appendChild(docLink);\n",
              "      }\n",
              "    </script>\n",
              "  </div>\n",
              "\n",
              "\n",
              "<div id=\"df-2aa64305-db87-466f-af52-c817271f01cd\">\n",
              "  <button class=\"colab-df-quickchart\" onclick=\"quickchart('df-2aa64305-db87-466f-af52-c817271f01cd')\"\n",
              "            title=\"Suggest charts\"\n",
              "            style=\"display:none;\">\n",
              "\n",
              "<svg xmlns=\"http://www.w3.org/2000/svg\" height=\"24px\"viewBox=\"0 0 24 24\"\n",
              "     width=\"24px\">\n",
              "    <g>\n",
              "        <path d=\"M19 3H5c-1.1 0-2 .9-2 2v14c0 1.1.9 2 2 2h14c1.1 0 2-.9 2-2V5c0-1.1-.9-2-2-2zM9 17H7v-7h2v7zm4 0h-2V7h2v10zm4 0h-2v-4h2v4z\"/>\n",
              "    </g>\n",
              "</svg>\n",
              "  </button>\n",
              "\n",
              "<style>\n",
              "  .colab-df-quickchart {\n",
              "      --bg-color: #E8F0FE;\n",
              "      --fill-color: #1967D2;\n",
              "      --hover-bg-color: #E2EBFA;\n",
              "      --hover-fill-color: #174EA6;\n",
              "      --disabled-fill-color: #AAA;\n",
              "      --disabled-bg-color: #DDD;\n",
              "  }\n",
              "\n",
              "  [theme=dark] .colab-df-quickchart {\n",
              "      --bg-color: #3B4455;\n",
              "      --fill-color: #D2E3FC;\n",
              "      --hover-bg-color: #434B5C;\n",
              "      --hover-fill-color: #FFFFFF;\n",
              "      --disabled-bg-color: #3B4455;\n",
              "      --disabled-fill-color: #666;\n",
              "  }\n",
              "\n",
              "  .colab-df-quickchart {\n",
              "    background-color: var(--bg-color);\n",
              "    border: none;\n",
              "    border-radius: 50%;\n",
              "    cursor: pointer;\n",
              "    display: none;\n",
              "    fill: var(--fill-color);\n",
              "    height: 32px;\n",
              "    padding: 0;\n",
              "    width: 32px;\n",
              "  }\n",
              "\n",
              "  .colab-df-quickchart:hover {\n",
              "    background-color: var(--hover-bg-color);\n",
              "    box-shadow: 0 1px 2px rgba(60, 64, 67, 0.3), 0 1px 3px 1px rgba(60, 64, 67, 0.15);\n",
              "    fill: var(--button-hover-fill-color);\n",
              "  }\n",
              "\n",
              "  .colab-df-quickchart-complete:disabled,\n",
              "  .colab-df-quickchart-complete:disabled:hover {\n",
              "    background-color: var(--disabled-bg-color);\n",
              "    fill: var(--disabled-fill-color);\n",
              "    box-shadow: none;\n",
              "  }\n",
              "\n",
              "  .colab-df-spinner {\n",
              "    border: 2px solid var(--fill-color);\n",
              "    border-color: transparent;\n",
              "    border-bottom-color: var(--fill-color);\n",
              "    animation:\n",
              "      spin 1s steps(1) infinite;\n",
              "  }\n",
              "\n",
              "  @keyframes spin {\n",
              "    0% {\n",
              "      border-color: transparent;\n",
              "      border-bottom-color: var(--fill-color);\n",
              "      border-left-color: var(--fill-color);\n",
              "    }\n",
              "    20% {\n",
              "      border-color: transparent;\n",
              "      border-left-color: var(--fill-color);\n",
              "      border-top-color: var(--fill-color);\n",
              "    }\n",
              "    30% {\n",
              "      border-color: transparent;\n",
              "      border-left-color: var(--fill-color);\n",
              "      border-top-color: var(--fill-color);\n",
              "      border-right-color: var(--fill-color);\n",
              "    }\n",
              "    40% {\n",
              "      border-color: transparent;\n",
              "      border-right-color: var(--fill-color);\n",
              "      border-top-color: var(--fill-color);\n",
              "    }\n",
              "    60% {\n",
              "      border-color: transparent;\n",
              "      border-right-color: var(--fill-color);\n",
              "    }\n",
              "    80% {\n",
              "      border-color: transparent;\n",
              "      border-right-color: var(--fill-color);\n",
              "      border-bottom-color: var(--fill-color);\n",
              "    }\n",
              "    90% {\n",
              "      border-color: transparent;\n",
              "      border-bottom-color: var(--fill-color);\n",
              "    }\n",
              "  }\n",
              "</style>\n",
              "\n",
              "  <script>\n",
              "    async function quickchart(key) {\n",
              "      const quickchartButtonEl =\n",
              "        document.querySelector('#' + key + ' button');\n",
              "      quickchartButtonEl.disabled = true;  // To prevent multiple clicks.\n",
              "      quickchartButtonEl.classList.add('colab-df-spinner');\n",
              "      try {\n",
              "        const charts = await google.colab.kernel.invokeFunction(\n",
              "            'suggestCharts', [key], {});\n",
              "      } catch (error) {\n",
              "        console.error('Error during call to suggestCharts:', error);\n",
              "      }\n",
              "      quickchartButtonEl.classList.remove('colab-df-spinner');\n",
              "      quickchartButtonEl.classList.add('colab-df-quickchart-complete');\n",
              "    }\n",
              "    (() => {\n",
              "      let quickchartButtonEl =\n",
              "        document.querySelector('#df-2aa64305-db87-466f-af52-c817271f01cd button');\n",
              "      quickchartButtonEl.style.display =\n",
              "        google.colab.kernel.accessAllowed ? 'block' : 'none';\n",
              "    })();\n",
              "  </script>\n",
              "</div>\n",
              "\n",
              "    </div>\n",
              "  </div>\n"
            ]
          },
          "metadata": {},
          "execution_count": 41
        }
      ]
    },
    {
      "cell_type": "code",
      "source": [
        "X3=df[df['P']=='yes'].values[:,:3]\n",
        "X3 = np.array(X3, dtype=float)\n",
        "X3"
      ],
      "metadata": {
        "colab": {
          "base_uri": "https://localhost:8080/"
        },
        "id": "hD9GpazbptGt",
        "outputId": "0088836d-126e-4b57-fe9d-bd485110d64c"
      },
      "execution_count": null,
      "outputs": [
        {
          "output_type": "execute_result",
          "data": {
            "text/plain": [
              "array([[341.,  69., 139.],\n",
              "       [110.,  59., 135.],\n",
              "       [154.,  54., 109.],\n",
              "       [127.,  59.,  79.],\n",
              "       [118.,  59., 150.],\n",
              "       [162.,  59.,  74.],\n",
              "       [254.,  59., 125.],\n",
              "       [207.,  60.,  99.],\n",
              "       [148.,  49.,  86.],\n",
              "       [188.,  65.,  85.],\n",
              "       [ 92.,  49.,  72.],\n",
              "       [141.,  59.,  91.],\n",
              "       [398.,  39., 149.],\n",
              "       [140.,  59.,  85.],\n",
              "       [212.,  49.,  95.],\n",
              "       [121.,  62.,  72.],\n",
              "       [109.,  50.,  75.],\n",
              "       [250.,  45.,  79.]])"
            ]
          },
          "metadata": {},
          "execution_count": 42
        }
      ]
    },
    {
      "cell_type": "code",
      "source": [
        "mu = np.mean(X3, axis=0)\n",
        "mu"
      ],
      "metadata": {
        "colab": {
          "base_uri": "https://localhost:8080/"
        },
        "id": "PIrXfBgvp0LT",
        "outputId": "d63cee84-2cb9-444c-8961-40ea36d6276b"
      },
      "execution_count": null,
      "outputs": [
        {
          "output_type": "execute_result",
          "data": {
            "text/plain": [
              "array([181.77777778,  55.77777778,  99.94444444])"
            ]
          },
          "metadata": {},
          "execution_count": 43
        }
      ]
    },
    {
      "cell_type": "code",
      "source": [
        "X_c = X3 - mu\n",
        "cov_matrix = np.cov(X_c, rowvar=False)\n",
        "cov_matrix"
      ],
      "metadata": {
        "colab": {
          "base_uri": "https://localhost:8080/"
        },
        "id": "PieRbRFhp4cw",
        "outputId": "1941822a-3838-4084-86ab-b5c83c70f90d"
      },
      "execution_count": null,
      "outputs": [
        {
          "output_type": "execute_result",
          "data": {
            "text/plain": [
              "array([[6973.24183007, -122.34640523, 1183.69281046],\n",
              "       [-122.34640523,   56.53594771,   10.33986928],\n",
              "       [1183.69281046,   10.33986928,  756.29084967]])"
            ]
          },
          "metadata": {},
          "execution_count": 44
        }
      ]
    },
    {
      "cell_type": "code",
      "source": [
        "std_dev = np.sqrt(np.diag(cov_matrix))\n",
        "correlation_matrix_np = cov_matrix / np.outer(std_dev, std_dev)\n",
        "correlation_matrix_np"
      ],
      "metadata": {
        "colab": {
          "base_uri": "https://localhost:8080/"
        },
        "id": "zaBVslMIqGKX",
        "outputId": "eadbbd23-caed-4747-f455-216a05eace7a"
      },
      "execution_count": null,
      "outputs": [
        {
          "output_type": "execute_result",
          "data": {
            "text/plain": [
              "array([[ 1.        , -0.19485498,  0.51543894],\n",
              "       [-0.19485498,  1.        ,  0.05000441],\n",
              "       [ 0.51543894,  0.05000441,  1.        ]])"
            ]
          },
          "metadata": {},
          "execution_count": 45
        }
      ]
    },
    {
      "cell_type": "code",
      "source": [
        "X4=df[df['P']=='no'].values[:,:3]\n",
        "X4 = np.array(X4, dtype=float)\n",
        "X4"
      ],
      "metadata": {
        "colab": {
          "base_uri": "https://localhost:8080/"
        },
        "id": "4AUpeZUlq7oi",
        "outputId": "65223eb8-5150-497d-b632-1f613530f29b"
      },
      "execution_count": null,
      "outputs": [
        {
          "output_type": "execute_result",
          "data": {
            "text/plain": [
              "array([[135.,  79., 169.],\n",
              "       [197.,  94., 164.],\n",
              "       [ 94.,  58.,  70.],\n",
              "       [ 84.,  44.,  64.],\n",
              "       [126.,  64.,  95.],\n",
              "       [103.,  59., 105.],\n",
              "       [ 95.,  59.,  65.]])"
            ]
          },
          "metadata": {},
          "execution_count": 46
        }
      ]
    },
    {
      "cell_type": "code",
      "source": [
        "mu = np.mean(X4, axis=0)\n",
        "mu"
      ],
      "metadata": {
        "colab": {
          "base_uri": "https://localhost:8080/"
        },
        "id": "8qeyEPkmrD_r",
        "outputId": "0cafd93c-cbd9-4f83-da4f-fc2ef4ed7f48"
      },
      "execution_count": null,
      "outputs": [
        {
          "output_type": "execute_result",
          "data": {
            "text/plain": [
              "array([119.14285714,  65.28571429, 104.57142857])"
            ]
          },
          "metadata": {},
          "execution_count": 47
        }
      ]
    },
    {
      "cell_type": "code",
      "source": [
        "X_c = X4 - mu\n",
        "cov_matrix = np.cov(X_c, rowvar=False)\n",
        "cov_matrix"
      ],
      "metadata": {
        "id": "t3Kq9fAurJN9",
        "outputId": "64f55942-127e-4aa0-c323-95c4f931d61d",
        "colab": {
          "base_uri": "https://localhost:8080/"
        }
      },
      "execution_count": null,
      "outputs": [
        {
          "output_type": "execute_result",
          "data": {
            "text/plain": [
              "array([[1511.80952381,  604.78571429, 1471.07142857],\n",
              "       [ 604.78571429,  266.57142857,  660.64285714],\n",
              "       [1471.07142857,  660.64285714, 2030.28571429]])"
            ]
          },
          "metadata": {},
          "execution_count": 48
        }
      ]
    },
    {
      "cell_type": "code",
      "source": [
        "std_dev = np.sqrt(np.diag(cov_matrix))\n",
        "correlation_matrix_np = cov_matrix / np.outer(std_dev, std_dev)\n",
        "correlation_matrix_np"
      ],
      "metadata": {
        "id": "2aSJA5jUrOtf",
        "outputId": "03f2c62f-32c0-40e0-820d-055fafcb6ed7",
        "colab": {
          "base_uri": "https://localhost:8080/"
        }
      },
      "execution_count": null,
      "outputs": [
        {
          "output_type": "execute_result",
          "data": {
            "text/plain": [
              "array([[1.        , 0.95267811, 0.83966614],\n",
              "       [0.95267811, 1.        , 0.8980104 ],\n",
              "       [0.83966614, 0.8980104 , 1.        ]])"
            ]
          },
          "metadata": {},
          "execution_count": 49
        }
      ]
    },
    {
      "cell_type": "markdown",
      "source": [
        "# Ejercicio 9\n"
      ],
      "metadata": {
        "id": "M0QURzTBwrnC"
      }
    },
    {
      "cell_type": "code",
      "source": [
        "X=np.array([[200, 10, 1],[170,10,1],[120 ,10 ,1],[100, 5, 0.5],[50, 0, 0],[110 ,0, 0],[110,10, 1],[170 ,5, 0.5],[110 ,10, 1],[120, 0, 0],[80, 0, 0],[70, 0, 0],[100, 5, 1],[110 ,0, 0],[80, 0, 0],[120 ,5, 0.5],[210 ,25, 2.5]])"
      ],
      "metadata": {
        "id": "TAAl8PB6wtTi"
      },
      "execution_count": null,
      "outputs": []
    },
    {
      "cell_type": "code",
      "source": [
        "plt.scatter(X[:,1],X[:,2] )\n",
        "plt.xlabel('Datos de Calorías proveniente de la grasa')\n",
        "plt.ylabel('Datos de Grasa total')\n",
        "plt.title('Gráfico de Dispersión')\n",
        "plt.savefig('Ej9_d.png')"
      ],
      "metadata": {
        "colab": {
          "base_uri": "https://localhost:8080/",
          "height": 473
        },
        "id": "3_JJTBGV00g3",
        "outputId": "988731ff-3878-41fb-cd9d-719a873256d6"
      },
      "execution_count": null,
      "outputs": [
        {
          "output_type": "display_data",
          "data": {
            "text/plain": [
              "<Figure size 640x480 with 1 Axes>"
            ],
            "image/png": "[encoded data removed]"
          },
          "metadata": {}
        }
      ]
    },
    {
      "cell_type": "code",
      "source": [
        "plt.scatter(X[:,0],X[:,2] )\n",
        "plt.xlabel('Datos de Calorías')\n",
        "plt.ylabel('Datos de Grasa total')\n",
        "plt.title('Gráfico de Dispersión')\n",
        "plt.savefig('Ej9_e.png')"
      ],
      "metadata": {
        "colab": {
          "base_uri": "https://localhost:8080/",
          "height": 472
        },
        "id": "19fYUBva3AOW",
        "outputId": "a78cd2f9-e0cd-466f-df47-6a7c1cff3c5a"
      },
      "execution_count": null,
      "outputs": [
        {
          "output_type": "display_data",
          "data": {
            "text/plain": [
              "<Figure size 640x480 with 1 Axes>"
            ],
            "image/png": "[encoded data removed]"
          },
          "metadata": {}
        }
      ]
    },
    {
      "cell_type": "code",
      "source": [
        "X=np.array([[350,160,47],\n",
        "            [310,400,43],\n",
        "            [280,55,25],\n",
        "            [220,190,24],\n",
        "            [140,330,22],\n",
        "            [320,35,26],\n",
        "            [240,100,24],\n",
        "            [0,200,41],\n",
        "            [220,110,24],\n",
        "            [0,220,29],\n",
        "            [170,np.nan,15 ],\n",
        "            [0,140,15],\n",
        "            [135,np.nan,23],\n",
        "            [90,np.nan,26],\n",
        "            [230,np.nan,18],\n",
        "            [0,np.nan,29],\n",
        "            [200,np.nan,44]\n",
        "            ])"
      ],
      "metadata": {
        "id": "QvDmFJ_85LEO"
      },
      "execution_count": null,
      "outputs": []
    },
    {
      "cell_type": "code",
      "source": [
        "vector_de_medias = np.nanmean(X, axis=0)\n",
        "vector_de_medias"
      ],
      "metadata": {
        "colab": {
          "base_uri": "https://localhost:8080/"
        },
        "id": "slEvR3eG7kUi",
        "outputId": "ddddb549-8fbf-4ef2-dce5-82be7d61b559"
      },
      "execution_count": null,
      "outputs": [
        {
          "output_type": "execute_result",
          "data": {
            "text/plain": [
              "array([170.88235294, 176.36363636,  27.94117647])"
            ]
          },
          "metadata": {},
          "execution_count": 56
        }
      ]
    },
    {
      "cell_type": "code",
      "source": [
        "# Crear una máscara para los valores NaN\n",
        "mask = np.isnan(X)\n",
        "\n",
        "# Crear un array máscara\n",
        "masked_X = ma.masked_array(X, mask)\n",
        "\n",
        "# Calcular la matriz de covarianzas con valores NaN\n",
        "matriz_covarianzas = np.ma.cov(masked_X, rowvar=False, ddof=1)\n",
        "matriz_covarianzas"
      ],
      "metadata": {
        "colab": {
          "base_uri": "https://localhost:8080/"
        },
        "id": "j-2C8ExC8k9p",
        "outputId": "d8a6e55a-e269-413a-ea76-6698fedee30d"
      },
      "execution_count": null,
      "outputs": [
        {
          "output_type": "execute_result",
          "data": {
            "text/plain": [
              "masked_array(\n",
              "  data=[[14069.485294117647, -2403.636363636364, 266.6176470588235],\n",
              "        [-2403.636363636364, 12280.454545454548, 410.8636363636364],\n",
              "        [266.6176470588235, 410.8636363636364, 98.55882352941177]],\n",
              "  mask=[[False, False, False],\n",
              "        [False, False, False],\n",
              "        [False, False, False]],\n",
              "  fill_value=1e+20)"
            ]
          },
          "metadata": {},
          "execution_count": 65
        }
      ]
    },
    {
      "cell_type": "code",
      "source": [
        "mask = np.isnan(X)\n",
        "# Crear un array máscara\n",
        "masked_X = ma.masked_array(X, mask)\n",
        "# Calcular la matriz de correlación con valores NaN\n",
        "matriz_correlacion = np.ma.corrcoef(masked_X, rowvar=False)\n",
        "matriz_correlacion"
      ],
      "metadata": {
        "colab": {
          "base_uri": "https://localhost:8080/"
        },
        "id": "_pFqaKlI-OdU",
        "outputId": "6323d495-8b8a-48f3-fd9c-823dddf10ad0"
      },
      "execution_count": null,
      "outputs": [
        {
          "output_type": "execute_result",
          "data": {
            "text/plain": [
              "masked_array(\n",
              "  data=[[1.0, -0.16162764663978912, 0.22641335026070988],\n",
              "        [-0.16162764663978912, 1.0, 0.3691173565163321],\n",
              "        [0.22641335026070988, 0.3691173565163321, 1.0]],\n",
              "  mask=[[False, False, False],\n",
              "        [False, False, False],\n",
              "        [False, False, False]],\n",
              "  fill_value=1e+20)"
            ]
          },
          "metadata": {},
          "execution_count": 69
        }
      ]
    }
  ]
}